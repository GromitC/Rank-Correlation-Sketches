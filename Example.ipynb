{
 "cells": [
  {
   "cell_type": "code",
   "execution_count": 1,
   "metadata": {},
   "outputs": [],
   "source": [
    "from sketch import KTSketch\n",
    "from scipy import stats"
   ]
  },
  {
   "cell_type": "code",
   "execution_count": 2,
   "metadata": {},
   "outputs": [
    {
     "name": "stdout",
     "output_type": "stream",
     "text": [
      "Approximated Kendall tau's: 0.410569105691057\n",
      "True Kendall tau's: 0.39999999999999997\n"
     ]
    }
   ],
   "source": [
    "x1 = [1,3,2,4,5]\n",
    "x2 = [3,2,1,5,4]\n",
    "\n",
    "epsilon = 0.05 #accuracy as the abs. error <= epsilon\n",
    "CI = 0.95 #confidence interval as P(abs. error <= epsilon) >= CI\n",
    "\n",
    "dimension = 5 #size of vector\n",
    "\n",
    "ktsketch = KTSketch(epsilon=epsilon,CI=CI,dim=dimension,seed=0)\n",
    "\n",
    "print(\"Approximated Kendall tau's: {}\".format(ktsketch.correlation(x1,x2)))\n",
    "print(\"True Kendall tau's: {}\".format(stats.kendalltau(x1,x2)[0]))"
   ]
  }
 ],
 "metadata": {
  "kernelspec": {
   "display_name": "Python 3",
   "language": "python",
   "name": "python3"
  },
  "language_info": {
   "codemirror_mode": {
    "name": "ipython",
    "version": 3
   },
   "file_extension": ".py",
   "mimetype": "text/x-python",
   "name": "python",
   "nbconvert_exporter": "python",
   "pygments_lexer": "ipython3",
   "version": "3.7.4"
  }
 },
 "nbformat": 4,
 "nbformat_minor": 4
}
